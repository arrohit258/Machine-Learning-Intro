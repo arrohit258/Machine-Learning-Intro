{
  "nbformat": 4,
  "nbformat_minor": 0,
  "metadata": {
    "colab": {
      "name": "linear_regression.ipynb",
      "provenance": [],
      "toc_visible": true,
      "include_colab_link": true
    },
    "kernelspec": {
      "name": "python3",
      "display_name": "Python 3"
    }
  },
  "cells": [
    {
      "cell_type": "markdown",
      "metadata": {
        "id": "view-in-github",
        "colab_type": "text"
      },
      "source": [
        "<a href=\"https://colab.research.google.com/github/arrohit258/Machine-Learning-Intro/blob/main/linear_regression.ipynb\" target=\"_parent\"><img src=\"https://colab.research.google.com/assets/colab-badge.svg\" alt=\"Open In Colab\"/></a>"
      ]
    },
    {
      "cell_type": "markdown",
      "metadata": {
        "id": "l_LulNCC8z96"
      },
      "source": [
        "# Simple Linear Regression"
      ]
    },
    {
      "cell_type": "markdown",
      "metadata": {
        "id": "xpXdowrE9DxW"
      },
      "source": [
        "## Importing the libraries"
      ]
    },
    {
      "cell_type": "code",
      "metadata": {
        "id": "RUnYViAJo0Vf"
      },
      "source": [
        "import numpy as np\r\n",
        "import pandas as pd\r\n",
        "import matplotlib.pyplot as plt"
      ],
      "execution_count": 1,
      "outputs": []
    },
    {
      "cell_type": "markdown",
      "metadata": {
        "id": "6JhpWJi59J1p"
      },
      "source": [
        "## Importing the dataset"
      ]
    },
    {
      "cell_type": "code",
      "metadata": {
        "colab": {
          "base_uri": "https://localhost:8080/"
        },
        "id": "Vq3X1t38oygp",
        "outputId": "bfd10d3b-78cf-42e6-cefc-9352b592ffbe"
      },
      "source": [
        "dataset=pd.read_csv('Salary_Data.csv')\r\n",
        "X=dataset.iloc[:,:-1].values\r\n",
        "y=dataset.iloc[:,-1].values\r\n",
        "print(y)"
      ],
      "execution_count": 3,
      "outputs": [
        {
          "output_type": "stream",
          "text": [
            "[ 39343.  46205.  37731.  43525.  39891.  56642.  60150.  54445.  64445.\n",
            "  57189.  63218.  55794.  56957.  57081.  61111.  67938.  66029.  83088.\n",
            "  81363.  93940.  91738.  98273. 101302. 113812. 109431. 105582. 116969.\n",
            " 112635. 122391. 121872.]\n"
          ],
          "name": "stdout"
        }
      ]
    },
    {
      "cell_type": "code",
      "metadata": {
        "id": "hVuiiL48qg0n"
      },
      "source": [
        ""
      ],
      "execution_count": null,
      "outputs": []
    },
    {
      "cell_type": "markdown",
      "metadata": {
        "id": "AyhQaTwP9RzG"
      },
      "source": [
        "## Splitting the dataset into the Training set and Test set"
      ]
    },
    {
      "cell_type": "code",
      "metadata": {
        "colab": {
          "base_uri": "https://localhost:8080/"
        },
        "id": "ohRlIJzXrkXc",
        "outputId": "07c5a2bd-ed57-454d-823c-0d7224722152"
      },
      "source": [
        "from sklearn.model_selection import train_test_split\r\n",
        "X_train,X_test,y_train,y_test=train_test_split(X,y,test_size=0.2,random_state=0)\r\n",
        "print(X_train)"
      ],
      "execution_count": 4,
      "outputs": [
        {
          "output_type": "stream",
          "text": [
            "[[ 9.6]\n",
            " [ 4. ]\n",
            " [ 5.3]\n",
            " [ 7.9]\n",
            " [ 2.9]\n",
            " [ 5.1]\n",
            " [ 3.2]\n",
            " [ 4.5]\n",
            " [ 8.2]\n",
            " [ 6.8]\n",
            " [ 1.3]\n",
            " [10.5]\n",
            " [ 3. ]\n",
            " [ 2.2]\n",
            " [ 5.9]\n",
            " [ 6. ]\n",
            " [ 3.7]\n",
            " [ 3.2]\n",
            " [ 9. ]\n",
            " [ 2. ]\n",
            " [ 1.1]\n",
            " [ 7.1]\n",
            " [ 4.9]\n",
            " [ 4. ]]\n"
          ],
          "name": "stdout"
        }
      ]
    },
    {
      "cell_type": "markdown",
      "metadata": {
        "id": "ZijQwFMQ9itx"
      },
      "source": [
        "## Training the Simple Linear Regression model on the Training set"
      ]
    },
    {
      "cell_type": "code",
      "metadata": {
        "colab": {
          "base_uri": "https://localhost:8080/"
        },
        "id": "7aRJ8FAQsQ25",
        "outputId": "6213b850-a02f-4ada-e587-70507f5b4a52"
      },
      "source": [
        "from sklearn.linear_model import LinearRegression\r\n",
        "regressor=LinearRegression()\r\n",
        "regressor.fit(X_train,y_train)"
      ],
      "execution_count": 5,
      "outputs": [
        {
          "output_type": "execute_result",
          "data": {
            "text/plain": [
              "LinearRegression(copy_X=True, fit_intercept=True, n_jobs=None, normalize=False)"
            ]
          },
          "metadata": {
            "tags": []
          },
          "execution_count": 5
        }
      ]
    },
    {
      "cell_type": "markdown",
      "metadata": {
        "id": "wa2T1Lq89o5H"
      },
      "source": [
        "## Predicting the Test set results"
      ]
    },
    {
      "cell_type": "code",
      "metadata": {
        "id": "Z5_rDdapvbGy"
      },
      "source": [
        "y_pred=regressor.predict(X_test)\r\n"
      ],
      "execution_count": 11,
      "outputs": []
    },
    {
      "cell_type": "markdown",
      "metadata": {
        "id": "-zSoMZ-P9v8t"
      },
      "source": [
        "## Visualising the Training set results"
      ]
    },
    {
      "cell_type": "code",
      "metadata": {
        "colab": {
          "base_uri": "https://localhost:8080/",
          "height": 295
        },
        "id": "Ilyfy-kxxyeK",
        "outputId": "4776c421-5ac5-4c86-bdb8-d4b974bbb071"
      },
      "source": [
        "plt.scatter(X_train,y_train,color=\"red\")\r\n",
        "plt.plot(X_train,regressor.predict(X_train),color=\"blue\")\r\n",
        "plt.title('Salary v/s Experience')\r\n",
        "plt.xlabel('Years of Experience')\r\n",
        "plt.ylabel('Salary')\r\n",
        "plt.show()"
      ],
      "execution_count": 14,
      "outputs": [
        {
          "output_type": "display_data",
          "data": {
            "image/png": "[encoded data removed]",
            "text/plain": [
              "<Figure size 432x288 with 1 Axes>"
            ]
          },
          "metadata": {
            "tags": [],
            "needs_background": "light"
          }
        }
      ]
    },
    {
      "cell_type": "markdown",
      "metadata": {
        "id": "EUX1Vhsv97ZT"
      },
      "source": [
        "## Visualising the Test set results"
      ]
    },
    {
      "cell_type": "code",
      "metadata": {
        "colab": {
          "base_uri": "https://localhost:8080/",
          "height": 295
        },
        "id": "fSejNaUJyqJw",
        "outputId": "a969d097-2bcc-4b8a-d7d9-062e5c3c37d6"
      },
      "source": [
        "plt.scatter(X_test,y_test,color=\"red\")\r\n",
        "plt.plot(X_test,y_pred,color=\"blue\")\r\n",
        "plt.title('Salary v/s Experience')\r\n",
        "plt.xlabel('Years of Experience')\r\n",
        "plt.ylabel('Salary')\r\n",
        "plt.show()"
      ],
      "execution_count": 16,
      "outputs": [
        {
          "output_type": "display_data",
          "data": {
            "image/png": "[encoded data removed]",
            "text/plain": [
              "<Figure size 432x288 with 1 Axes>"
            ]
          },
          "metadata": {
            "tags": [],
            "needs_background": "light"
          }
        }
      ]
    }
  ]
}